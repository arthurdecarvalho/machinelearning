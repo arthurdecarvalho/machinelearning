{
  "nbformat": 4,
  "nbformat_minor": 0,
  "metadata": {
    "colab": {
      "name": "classificaçao_cachorros.ipynb",
      "provenance": [],
      "authorship_tag": "ABX9TyOpN6IvuS/UHiw0zy92awbW",
      "include_colab_link": true
    },
    "kernelspec": {
      "name": "python3",
      "display_name": "Python 3"
    },
    "language_info": {
      "name": "python"
    }
  },
  "cells": [
    {
      "cell_type": "markdown",
      "metadata": {
        "id": "view-in-github",
        "colab_type": "text"
      },
      "source": [
        "<a href=\"https://colab.research.google.com/github/arthurdecarvalho/machinelearning/blob/main/classifica%C3%A7ao_cachorros.ipynb\" target=\"_parent\"><img src=\"https://colab.research.google.com/assets/colab-badge.svg\" alt=\"Open In Colab\"/></a>"
      ]
    },
    {
      "cell_type": "markdown",
      "metadata": {
        "id": "qbdseW6DZS3n"
      },
      "source": [
        "Exercício de classificação:\n",
        "Os dados abaixo representam de forma binaria [0, 1] as caracteristicas entre dois tipos de cachorro [dachshund, corgi], sendo elas:\n",
        "É gordo?\n",
        "É orelhudo?\n",
        "É baixinho?\n",
        "É de origem alemã?\n",
        "É o cachorro preferido da rainha Elizabeth?"
      ]
    },
    {
      "cell_type": "code",
      "metadata": {
        "id": "_zx0HQLlZBIp"
      },
      "source": [
        "#caracteristicas\n",
        "\n",
        "#[É gordo?, É orelhudo?, É baixinho?, É de origem alemã?, É o cachorro preferido da rainha Elizabeth?]"
      ],
      "execution_count": 24,
      "outputs": []
    },
    {
      "cell_type": "code",
      "metadata": {
        "id": "NXoi0mwVdbJk"
      },
      "source": [
        "dachshund_1 = [0, 1, 1, 1, 0]\n",
        "dachshund_2 = [1, 1, 1, 1, 0]\n",
        "dachshund_3 = [1, 1, 0, 1, 0]\n",
        "corgi_1 = [1, 1, 1, 0, 1]\n",
        "corgi_2 = [0, 1, 1, 0, 1]\n",
        "corgi_3 = [1, 1, 1, 1, 1]"
      ],
      "execution_count": 43,
      "outputs": []
    },
    {
      "cell_type": "code",
      "metadata": {
        "id": "beGvKq6DdZuz"
      },
      "source": [
        "dados = [dachshund_1, dachshund_2, dachshund_3, corgi_1, corgi_2, corgi_3]\n",
        "\n",
        "marcacoes = [0, 0, 0, 1, 1, 1]"
      ],
      "execution_count": 84,
      "outputs": []
    },
    {
      "cell_type": "code",
      "metadata": {
        "colab": {
          "base_uri": "https://localhost:8080/"
        },
        "id": "LclPxDBUdnqN",
        "outputId": "0ce097d4-8ff9-485d-f88d-1f3921d6b0bd"
      },
      "source": [
        "from sklearn.naive_bayes import MultinomialNB\n",
        "\n",
        "modelo = MultinomialNB()\n",
        "modelo.fit(dados, marcacoes)"
      ],
      "execution_count": 45,
      "outputs": [
        {
          "output_type": "execute_result",
          "data": {
            "text/plain": [
              "MultinomialNB(alpha=1.0, class_prior=None, fit_prior=True)"
            ]
          },
          "metadata": {
            "tags": []
          },
          "execution_count": 45
        }
      ]
    },
    {
      "cell_type": "code",
      "metadata": {
        "id": "fbleg8d7dnnb"
      },
      "source": [
        "cachorro_1 = [1, 1, 0, 1, 0]\n",
        "cachorro_2 = [0, 1, 1, 1, 1]\n",
        "cachorro_3 = [0, 0, 0, 0, 1]\n",
        "cachorro_4 = [1, 0, 0, 0, 0]\n",
        "cachorro_5 = [1, 1, 1, 0, 0]"
      ],
      "execution_count": 85,
      "outputs": []
    },
    {
      "cell_type": "code",
      "metadata": {
        "id": "DxxfjwrreO5R"
      },
      "source": [
        "testes = [cachorro_1, cachorro_2, cachorro_3, cachorro_4]"
      ],
      "execution_count": 86,
      "outputs": []
    },
    {
      "cell_type": "code",
      "metadata": {
        "colab": {
          "base_uri": "https://localhost:8080/"
        },
        "id": "N6UPIqIHeW8E",
        "outputId": "a44abd0c-bb7c-4b89-fd0b-4a4fee9fcd31"
      },
      "source": [
        "resultado = (modelo.predict(testes))\n",
        "print(resultado)"
      ],
      "execution_count": 87,
      "outputs": [
        {
          "output_type": "stream",
          "text": [
            "[0 1 1 0]\n"
          ],
          "name": "stdout"
        }
      ]
    },
    {
      "cell_type": "code",
      "metadata": {
        "id": "fDfRxx2-n0aI"
      },
      "source": [
        "marcacoes_testes = [0, 1, 1, 0]"
      ],
      "execution_count": 54,
      "outputs": []
    },
    {
      "cell_type": "code",
      "metadata": {
        "colab": {
          "base_uri": "https://localhost:8080/"
        },
        "id": "6dn8cONvn0XZ",
        "outputId": "45f76e85-07f0-4f85-a735-29e732d458a3"
      },
      "source": [
        "diferencas = resultado - marcacoes_testes\n",
        "print(diferencas)"
      ],
      "execution_count": 57,
      "outputs": [
        {
          "output_type": "stream",
          "text": [
            "[0 0 0 0]\n"
          ],
          "name": "stdout"
        }
      ]
    },
    {
      "cell_type": "code",
      "metadata": {
        "colab": {
          "base_uri": "https://localhost:8080/"
        },
        "id": "5YF0tcCkn0Uo",
        "outputId": "aca80e17-ae01-49dc-86f3-104c6bcb0352"
      },
      "source": [
        "acertos = [d for d in diferencas if d == 0]\n",
        "acertos"
      ],
      "execution_count": 61,
      "outputs": [
        {
          "output_type": "execute_result",
          "data": {
            "text/plain": [
              "[0, 0, 0, 0]"
            ]
          },
          "metadata": {
            "tags": []
          },
          "execution_count": 61
        }
      ]
    },
    {
      "cell_type": "code",
      "metadata": {
        "id": "g5-NwByBn0Op"
      },
      "source": [
        "total_de_acertos = len(acertos)\n",
        "total_de_elementos = len(testes)"
      ],
      "execution_count": 64,
      "outputs": []
    },
    {
      "cell_type": "code",
      "metadata": {
        "colab": {
          "base_uri": "https://localhost:8080/"
        },
        "id": "R9EQvd22oos9",
        "outputId": "43de1dc3-1d64-4e5b-f63e-15b0f3470d45"
      },
      "source": [
        "taxa_de_acerto = (total_de_acertos / total_de_elementos) * 100\n",
        "print(taxa_de_acerto)"
      ],
      "execution_count": 60,
      "outputs": [
        {
          "output_type": "stream",
          "text": [
            "100.0\n"
          ],
          "name": "stdout"
        }
      ]
    },
    {
      "cell_type": "code",
      "metadata": {
        "id": "7cVorHnhrCKk"
      },
      "source": [
        ""
      ],
      "execution_count": null,
      "outputs": []
    }
  ]
}