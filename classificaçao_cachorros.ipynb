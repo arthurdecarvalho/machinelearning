{
  "nbformat": 4,
  "nbformat_minor": 0,
  "metadata": {
    "colab": {
      "name": "classificaçao_cachorros.ipynb",
      "provenance": [],
      "authorship_tag": "ABX9TyM/dI7KIei0Tlmqhng8UPoL",
      "include_colab_link": true
    },
    "kernelspec": {
      "name": "python3",
      "display_name": "Python 3"
    },
    "language_info": {
      "name": "python"
    }
  },
  "cells": [
    {
      "cell_type": "markdown",
      "metadata": {
        "id": "view-in-github",
        "colab_type": "text"
      },
      "source": [
        "<a href=\"https://colab.research.google.com/github/arthurdecarvalho/machinelearning/blob/main/classifica%C3%A7ao_cachorros.ipynb\" target=\"_parent\"><img src=\"https://colab.research.google.com/assets/colab-badge.svg\" alt=\"Open In Colab\"/></a>"
      ]
    },
    {
      "cell_type": "markdown",
      "metadata": {
        "id": "qbdseW6DZS3n"
      },
      "source": [
        "Exercício de classificação:\n",
        "Os dados abaixo representam de forma binaria [0, 1] as caracteristicas entre dois tipos de cachorro [dachshund, corgi], sendo elas:\n",
        "É gordo?\n",
        "É orelhudo?\n",
        "É baixinho?\n",
        "É de origem alemã?\n",
        "É o cachorro preferido da rainha Elizabeth?"
      ]
    },
    {
      "cell_type": "code",
      "metadata": {
        "id": "_zx0HQLlZBIp"
      },
      "source": [
        "#caracteristicas\n",
        "\n",
        "#[É gordo?, É orelhudo?, É baixinho?, É de origem alemã?, É o cachorro preferido da rainha Elizabeth?]"
      ],
      "execution_count": 24,
      "outputs": []
    },
    {
      "cell_type": "code",
      "metadata": {
        "id": "NXoi0mwVdbJk"
      },
      "source": [
        "dachshund_1 = [0, 1, 1, 1, 0]\n",
        "dachshund_2 = [1, 1, 1, 1, 0]\n",
        "dachshund_3 = [1, 1, 0, 1, 0]\n",
        "corgi_1 = [1, 1, 1, 0, 1]\n",
        "corgi_2 = [0, 1, 1, 0, 1]\n",
        "corgi_3 = [1, 1, 1, 1, 1]"
      ],
      "execution_count": 43,
      "outputs": []
    },
    {
      "cell_type": "code",
      "metadata": {
        "id": "beGvKq6DdZuz"
      },
      "source": [
        "dados = [dachshund_1, dachshund_2, dachshund_3, corgi_1, corgi_2, corgi_3]\n",
        "\n",
        "marcacoes = [0, 0, 0, 1, 1, 1]"
      ],
      "execution_count": 44,
      "outputs": []
    },
    {
      "cell_type": "code",
      "metadata": {
        "colab": {
          "base_uri": "https://localhost:8080/"
        },
        "id": "LclPxDBUdnqN",
        "outputId": "0ce097d4-8ff9-485d-f88d-1f3921d6b0bd"
      },
      "source": [
        "from sklearn.naive_bayes import MultinomialNB\n",
        "\n",
        "modelo = MultinomialNB()\n",
        "modelo.fit(dados, marcacoes)"
      ],
      "execution_count": 45,
      "outputs": [
        {
          "output_type": "execute_result",
          "data": {
            "text/plain": [
              "MultinomialNB(alpha=1.0, class_prior=None, fit_prior=True)"
            ]
          },
          "metadata": {
            "tags": []
          },
          "execution_count": 45
        }
      ]
    },
    {
      "cell_type": "code",
      "metadata": {
        "id": "fbleg8d7dnnb"
      },
      "source": [
        "cachorro_1 = [1, 1, 0, 1, 0]\n",
        "cachorro_2 = [0, 1, 1, 1, 1]\n",
        "cachorro_3 = [0, 0, 0, 0, 1]\n",
        "cachorro_4 = [1, 0, 0, 0, 0]"
      ],
      "execution_count": 49,
      "outputs": []
    },
    {
      "cell_type": "code",
      "metadata": {
        "id": "DxxfjwrreO5R"
      },
      "source": [
        "teste = [cachorro_1, cachorro_2, cachorro_3, cachorro_4]"
      ],
      "execution_count": 50,
      "outputs": []
    },
    {
      "cell_type": "code",
      "metadata": {
        "colab": {
          "base_uri": "https://localhost:8080/"
        },
        "id": "N6UPIqIHeW8E",
        "outputId": "9748dbd8-6011-4dae-b1d7-d91adb92e23d"
      },
      "source": [
        "print(modelo.predict(teste))"
      ],
      "execution_count": 51,
      "outputs": [
        {
          "output_type": "stream",
          "text": [
            "[0 1 1 0]\n"
          ],
          "name": "stdout"
        }
      ]
    }
  ]
}